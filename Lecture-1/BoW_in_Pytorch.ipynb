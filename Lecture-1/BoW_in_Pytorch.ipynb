{
  "nbformat": 4,
  "nbformat_minor": 0,
  "metadata": {
    "colab": {
      "provenance": []
    },
    "kernelspec": {
      "name": "python3",
      "display_name": "Python 3"
    },
    "language_info": {
      "name": "python"
    }
  },
  "cells": [
    {
      "cell_type": "code",
      "execution_count": 17,
      "metadata": {
        "id": "W6W-lTFlMbYM"
      },
      "outputs": [],
      "source": [
        "import torch\n",
        "from torch import nn\n",
        "from torch import optim\n",
        "from torch.autograd import Variable"
      ]
    },
    {
      "cell_type": "code",
      "source": [
        "train_data = [(\"me gusta comer en la cafeteria\".split(), \"SPANISH\"),\n",
        "              (\"Give it to me\".split(), \"ENGLISH\"),\n",
        "              (\"No creo que sea una buena idea\".split(), \"SPANISH\"),\n",
        "              (\"No it is not a good idea to get lost at sea\".split(), \"ENGLISH\")]\n",
        "\n",
        "test_data = [(\"Yo creo que si\".split(), \"SPANISH\"),\n",
        "             (\"it is lost on me\".split(), \"ENGLISH\"),\n",
        "             (\"jon jones is the greatest\".split() , \"ENGLISH\"),\n",
        "             (\"Yo creo que si\".split(), \"SPANISH\")]"
      ],
      "metadata": {
        "id": "UUjYgJ6_PViq"
      },
      "execution_count": 130,
      "outputs": []
    },
    {
      "cell_type": "code",
      "source": [
        "#BOWClassifier Model\n",
        "class BOWClassifier(nn.Module):\n",
        "\n",
        "  def __init__(self, num_labels,vocab_size):\n",
        "    super().__init__()\n",
        "    self.layer_stack = nn.Sequential(\n",
        "        nn.Linear(in_features= vocab_size , out_features = num_labels),\n",
        "        nn.ReLU()\n",
        "    )\n",
        "\n",
        "  def forward(self , x):\n",
        "    return self.layer_stack(x)"
      ],
      "metadata": {
        "id": "jfqQLdmlRCOg"
      },
      "execution_count": 118,
      "outputs": []
    },
    {
      "cell_type": "code",
      "source": [
        "#make bag-of-words function\n",
        "def make_bow(sentence , vocab):\n",
        "  feature_vec = torch.zeros(len(vocab)) #intializing the count vector with zeros\n",
        "  for word in sentence:\n",
        "    feature_vec[vocab[word]] += 1\n",
        "  return feature_vec.view(1,-1)"
      ],
      "metadata": {
        "id": "GlSgeUx6RGmD"
      },
      "execution_count": 131,
      "outputs": []
    },
    {
      "cell_type": "code",
      "source": [
        "#labels of words into int or classes(0 or 1)\n",
        "def make_labels(labels , label):\n",
        "  return torch.LongTensor([labels[label]])"
      ],
      "metadata": {
        "id": "RNs5dwfdRHn8"
      },
      "execution_count": 144,
      "outputs": []
    },
    {
      "cell_type": "code",
      "source": [
        "vocab = set()\n",
        "corpus_list = train_data + test_data\n",
        "for sent, _ in corpus_list:\n",
        "  for word in sent:\n",
        "    vocab.add(word)"
      ],
      "metadata": {
        "id": "lXmdwUHwDlxH"
      },
      "execution_count": 133,
      "outputs": []
    },
    {
      "cell_type": "code",
      "source": [
        "vocab_map={word : key for key,word in enumerate(vocab)}"
      ],
      "metadata": {
        "id": "bLC1f5sjG582"
      },
      "execution_count": 134,
      "outputs": []
    },
    {
      "cell_type": "code",
      "source": [
        "print(len(vocab))"
      ],
      "metadata": {
        "colab": {
          "base_uri": "https://localhost:8080/"
        },
        "id": "5Za2KCs8IKs8",
        "outputId": "20253b23-aced-4066-f9b7-a9d2be869731"
      },
      "execution_count": 135,
      "outputs": [
        {
          "output_type": "stream",
          "name": "stdout",
          "text": [
            "30\n"
          ]
        }
      ]
    },
    {
      "cell_type": "code",
      "source": [
        "VOCAB_SIZE = len(vocab)\n",
        "NUM_LABELS = 2\n",
        "labels = {\"SPANISH\" : 0, \"ENGLISH\" : 1}\n",
        "model = BOWClassifier(NUM_LABELS, VOCAB_SIZE)\n",
        "# loss_fn = nn.BCEWithLogitsLoss()\n",
        "loss_fn = nn.CrossEntropyLoss()\n",
        "optimizer = torch.optim.SGD(params = model.parameters() , lr = 0.01)"
      ],
      "metadata": {
        "id": "5ipPdO-7IdAy"
      },
      "execution_count": 146,
      "outputs": []
    },
    {
      "cell_type": "code",
      "source": [
        "epochs = 100\n",
        "for epoch in range(epochs):\n",
        "  for data,label in train_data:\n",
        "    model.train()\n",
        "    feature_vec = Variable(make_bow(data,vocab_map))\n",
        "    feature_vec.requires_grad = True\n",
        "    target = Variable(make_labels(labels,label))\n",
        "    model.zero_grad()\n",
        "    output = model(feature_vec)\n",
        "    # output_class = output.argmax(dim = 1)\n",
        "    # output_class = output_class.type(torch.float64)\n",
        "    # output_class.requires_grad = True\n",
        "    print(output.shape , target.shape)\n",
        "    # loss = loss_fn(output_class.type(torch.float64) , target.type(torch.float64))\n",
        "    loss = loss_fn(output, target)\n",
        "    loss.backward()\n",
        "    optimizer.step()"
      ],
      "metadata": {
        "colab": {
          "base_uri": "https://localhost:8080/"
        },
        "id": "OO9NqDejOhao",
        "outputId": "572ff31d-7cf7-490d-e545-69e3bb26a99e"
      },
      "execution_count": 147,
      "outputs": [
        {
          "output_type": "stream",
          "name": "stdout",
          "text": [
            "torch.Size([1, 2]) torch.Size([1])\n",
            "torch.Size([1, 2]) torch.Size([1])\n",
            "torch.Size([1, 2]) torch.Size([1])\n",
            "torch.Size([1, 2]) torch.Size([1])\n",
            "torch.Size([1, 2]) torch.Size([1])\n",
            "torch.Size([1, 2]) torch.Size([1])\n",
            "torch.Size([1, 2]) torch.Size([1])\n",
            "torch.Size([1, 2]) torch.Size([1])\n",
            "torch.Size([1, 2]) torch.Size([1])\n",
            "torch.Size([1, 2]) torch.Size([1])\n",
            "torch.Size([1, 2]) torch.Size([1])\n",
            "torch.Size([1, 2]) torch.Size([1])\n",
            "torch.Size([1, 2]) torch.Size([1])\n",
            "torch.Size([1, 2]) torch.Size([1])\n",
            "torch.Size([1, 2]) torch.Size([1])\n",
            "torch.Size([1, 2]) torch.Size([1])\n",
            "torch.Size([1, 2]) torch.Size([1])\n",
            "torch.Size([1, 2]) torch.Size([1])\n",
            "torch.Size([1, 2]) torch.Size([1])\n",
            "torch.Size([1, 2]) torch.Size([1])\n",
            "torch.Size([1, 2]) torch.Size([1])\n",
            "torch.Size([1, 2]) torch.Size([1])\n",
            "torch.Size([1, 2]) torch.Size([1])\n",
            "torch.Size([1, 2]) torch.Size([1])\n",
            "torch.Size([1, 2]) torch.Size([1])\n",
            "torch.Size([1, 2]) torch.Size([1])\n",
            "torch.Size([1, 2]) torch.Size([1])\n",
            "torch.Size([1, 2]) torch.Size([1])\n",
            "torch.Size([1, 2]) torch.Size([1])\n",
            "torch.Size([1, 2]) torch.Size([1])\n",
            "torch.Size([1, 2]) torch.Size([1])\n",
            "torch.Size([1, 2]) torch.Size([1])\n",
            "torch.Size([1, 2]) torch.Size([1])\n",
            "torch.Size([1, 2]) torch.Size([1])\n",
            "torch.Size([1, 2]) torch.Size([1])\n",
            "torch.Size([1, 2]) torch.Size([1])\n",
            "torch.Size([1, 2]) torch.Size([1])\n",
            "torch.Size([1, 2]) torch.Size([1])\n",
            "torch.Size([1, 2]) torch.Size([1])\n",
            "torch.Size([1, 2]) torch.Size([1])\n",
            "torch.Size([1, 2]) torch.Size([1])\n",
            "torch.Size([1, 2]) torch.Size([1])\n",
            "torch.Size([1, 2]) torch.Size([1])\n",
            "torch.Size([1, 2]) torch.Size([1])\n",
            "torch.Size([1, 2]) torch.Size([1])\n",
            "torch.Size([1, 2]) torch.Size([1])\n",
            "torch.Size([1, 2]) torch.Size([1])\n",
            "torch.Size([1, 2]) torch.Size([1])\n",
            "torch.Size([1, 2]) torch.Size([1])\n",
            "torch.Size([1, 2]) torch.Size([1])\n",
            "torch.Size([1, 2]) torch.Size([1])\n",
            "torch.Size([1, 2]) torch.Size([1])\n",
            "torch.Size([1, 2]) torch.Size([1])\n",
            "torch.Size([1, 2]) torch.Size([1])\n",
            "torch.Size([1, 2]) torch.Size([1])\n",
            "torch.Size([1, 2]) torch.Size([1])\n",
            "torch.Size([1, 2]) torch.Size([1])\n",
            "torch.Size([1, 2]) torch.Size([1])\n",
            "torch.Size([1, 2]) torch.Size([1])\n",
            "torch.Size([1, 2]) torch.Size([1])\n",
            "torch.Size([1, 2]) torch.Size([1])\n",
            "torch.Size([1, 2]) torch.Size([1])\n",
            "torch.Size([1, 2]) torch.Size([1])\n",
            "torch.Size([1, 2]) torch.Size([1])\n",
            "torch.Size([1, 2]) torch.Size([1])\n",
            "torch.Size([1, 2]) torch.Size([1])\n",
            "torch.Size([1, 2]) torch.Size([1])\n",
            "torch.Size([1, 2]) torch.Size([1])\n",
            "torch.Size([1, 2]) torch.Size([1])\n",
            "torch.Size([1, 2]) torch.Size([1])\n",
            "torch.Size([1, 2]) torch.Size([1])\n",
            "torch.Size([1, 2]) torch.Size([1])\n",
            "torch.Size([1, 2]) torch.Size([1])\n",
            "torch.Size([1, 2]) torch.Size([1])\n",
            "torch.Size([1, 2]) torch.Size([1])\n",
            "torch.Size([1, 2]) torch.Size([1])\n",
            "torch.Size([1, 2]) torch.Size([1])\n",
            "torch.Size([1, 2]) torch.Size([1])\n",
            "torch.Size([1, 2]) torch.Size([1])\n",
            "torch.Size([1, 2]) torch.Size([1])\n",
            "torch.Size([1, 2]) torch.Size([1])\n",
            "torch.Size([1, 2]) torch.Size([1])\n",
            "torch.Size([1, 2]) torch.Size([1])\n",
            "torch.Size([1, 2]) torch.Size([1])\n",
            "torch.Size([1, 2]) torch.Size([1])\n",
            "torch.Size([1, 2]) torch.Size([1])\n",
            "torch.Size([1, 2]) torch.Size([1])\n",
            "torch.Size([1, 2]) torch.Size([1])\n",
            "torch.Size([1, 2]) torch.Size([1])\n",
            "torch.Size([1, 2]) torch.Size([1])\n",
            "torch.Size([1, 2]) torch.Size([1])\n",
            "torch.Size([1, 2]) torch.Size([1])\n",
            "torch.Size([1, 2]) torch.Size([1])\n",
            "torch.Size([1, 2]) torch.Size([1])\n",
            "torch.Size([1, 2]) torch.Size([1])\n",
            "torch.Size([1, 2]) torch.Size([1])\n",
            "torch.Size([1, 2]) torch.Size([1])\n",
            "torch.Size([1, 2]) torch.Size([1])\n",
            "torch.Size([1, 2]) torch.Size([1])\n",
            "torch.Size([1, 2]) torch.Size([1])\n",
            "torch.Size([1, 2]) torch.Size([1])\n",
            "torch.Size([1, 2]) torch.Size([1])\n",
            "torch.Size([1, 2]) torch.Size([1])\n",
            "torch.Size([1, 2]) torch.Size([1])\n",
            "torch.Size([1, 2]) torch.Size([1])\n",
            "torch.Size([1, 2]) torch.Size([1])\n",
            "torch.Size([1, 2]) torch.Size([1])\n",
            "torch.Size([1, 2]) torch.Size([1])\n",
            "torch.Size([1, 2]) torch.Size([1])\n",
            "torch.Size([1, 2]) torch.Size([1])\n",
            "torch.Size([1, 2]) torch.Size([1])\n",
            "torch.Size([1, 2]) torch.Size([1])\n",
            "torch.Size([1, 2]) torch.Size([1])\n",
            "torch.Size([1, 2]) torch.Size([1])\n",
            "torch.Size([1, 2]) torch.Size([1])\n",
            "torch.Size([1, 2]) torch.Size([1])\n",
            "torch.Size([1, 2]) torch.Size([1])\n",
            "torch.Size([1, 2]) torch.Size([1])\n",
            "torch.Size([1, 2]) torch.Size([1])\n",
            "torch.Size([1, 2]) torch.Size([1])\n",
            "torch.Size([1, 2]) torch.Size([1])\n",
            "torch.Size([1, 2]) torch.Size([1])\n",
            "torch.Size([1, 2]) torch.Size([1])\n",
            "torch.Size([1, 2]) torch.Size([1])\n",
            "torch.Size([1, 2]) torch.Size([1])\n",
            "torch.Size([1, 2]) torch.Size([1])\n",
            "torch.Size([1, 2]) torch.Size([1])\n",
            "torch.Size([1, 2]) torch.Size([1])\n",
            "torch.Size([1, 2]) torch.Size([1])\n",
            "torch.Size([1, 2]) torch.Size([1])\n",
            "torch.Size([1, 2]) torch.Size([1])\n",
            "torch.Size([1, 2]) torch.Size([1])\n",
            "torch.Size([1, 2]) torch.Size([1])\n",
            "torch.Size([1, 2]) torch.Size([1])\n",
            "torch.Size([1, 2]) torch.Size([1])\n",
            "torch.Size([1, 2]) torch.Size([1])\n",
            "torch.Size([1, 2]) torch.Size([1])\n",
            "torch.Size([1, 2]) torch.Size([1])\n",
            "torch.Size([1, 2]) torch.Size([1])\n",
            "torch.Size([1, 2]) torch.Size([1])\n",
            "torch.Size([1, 2]) torch.Size([1])\n",
            "torch.Size([1, 2]) torch.Size([1])\n",
            "torch.Size([1, 2]) torch.Size([1])\n",
            "torch.Size([1, 2]) torch.Size([1])\n",
            "torch.Size([1, 2]) torch.Size([1])\n",
            "torch.Size([1, 2]) torch.Size([1])\n",
            "torch.Size([1, 2]) torch.Size([1])\n",
            "torch.Size([1, 2]) torch.Size([1])\n",
            "torch.Size([1, 2]) torch.Size([1])\n",
            "torch.Size([1, 2]) torch.Size([1])\n",
            "torch.Size([1, 2]) torch.Size([1])\n",
            "torch.Size([1, 2]) torch.Size([1])\n",
            "torch.Size([1, 2]) torch.Size([1])\n",
            "torch.Size([1, 2]) torch.Size([1])\n",
            "torch.Size([1, 2]) torch.Size([1])\n",
            "torch.Size([1, 2]) torch.Size([1])\n",
            "torch.Size([1, 2]) torch.Size([1])\n",
            "torch.Size([1, 2]) torch.Size([1])\n",
            "torch.Size([1, 2]) torch.Size([1])\n",
            "torch.Size([1, 2]) torch.Size([1])\n",
            "torch.Size([1, 2]) torch.Size([1])\n",
            "torch.Size([1, 2]) torch.Size([1])\n",
            "torch.Size([1, 2]) torch.Size([1])\n",
            "torch.Size([1, 2]) torch.Size([1])\n",
            "torch.Size([1, 2]) torch.Size([1])\n",
            "torch.Size([1, 2]) torch.Size([1])\n",
            "torch.Size([1, 2]) torch.Size([1])\n",
            "torch.Size([1, 2]) torch.Size([1])\n",
            "torch.Size([1, 2]) torch.Size([1])\n",
            "torch.Size([1, 2]) torch.Size([1])\n",
            "torch.Size([1, 2]) torch.Size([1])\n",
            "torch.Size([1, 2]) torch.Size([1])\n",
            "torch.Size([1, 2]) torch.Size([1])\n",
            "torch.Size([1, 2]) torch.Size([1])\n",
            "torch.Size([1, 2]) torch.Size([1])\n",
            "torch.Size([1, 2]) torch.Size([1])\n",
            "torch.Size([1, 2]) torch.Size([1])\n",
            "torch.Size([1, 2]) torch.Size([1])\n",
            "torch.Size([1, 2]) torch.Size([1])\n",
            "torch.Size([1, 2]) torch.Size([1])\n",
            "torch.Size([1, 2]) torch.Size([1])\n",
            "torch.Size([1, 2]) torch.Size([1])\n",
            "torch.Size([1, 2]) torch.Size([1])\n",
            "torch.Size([1, 2]) torch.Size([1])\n",
            "torch.Size([1, 2]) torch.Size([1])\n",
            "torch.Size([1, 2]) torch.Size([1])\n",
            "torch.Size([1, 2]) torch.Size([1])\n",
            "torch.Size([1, 2]) torch.Size([1])\n",
            "torch.Size([1, 2]) torch.Size([1])\n",
            "torch.Size([1, 2]) torch.Size([1])\n",
            "torch.Size([1, 2]) torch.Size([1])\n",
            "torch.Size([1, 2]) torch.Size([1])\n",
            "torch.Size([1, 2]) torch.Size([1])\n",
            "torch.Size([1, 2]) torch.Size([1])\n",
            "torch.Size([1, 2]) torch.Size([1])\n",
            "torch.Size([1, 2]) torch.Size([1])\n",
            "torch.Size([1, 2]) torch.Size([1])\n",
            "torch.Size([1, 2]) torch.Size([1])\n",
            "torch.Size([1, 2]) torch.Size([1])\n",
            "torch.Size([1, 2]) torch.Size([1])\n",
            "torch.Size([1, 2]) torch.Size([1])\n",
            "torch.Size([1, 2]) torch.Size([1])\n",
            "torch.Size([1, 2]) torch.Size([1])\n",
            "torch.Size([1, 2]) torch.Size([1])\n",
            "torch.Size([1, 2]) torch.Size([1])\n",
            "torch.Size([1, 2]) torch.Size([1])\n",
            "torch.Size([1, 2]) torch.Size([1])\n",
            "torch.Size([1, 2]) torch.Size([1])\n",
            "torch.Size([1, 2]) torch.Size([1])\n",
            "torch.Size([1, 2]) torch.Size([1])\n",
            "torch.Size([1, 2]) torch.Size([1])\n",
            "torch.Size([1, 2]) torch.Size([1])\n",
            "torch.Size([1, 2]) torch.Size([1])\n",
            "torch.Size([1, 2]) torch.Size([1])\n",
            "torch.Size([1, 2]) torch.Size([1])\n",
            "torch.Size([1, 2]) torch.Size([1])\n",
            "torch.Size([1, 2]) torch.Size([1])\n",
            "torch.Size([1, 2]) torch.Size([1])\n",
            "torch.Size([1, 2]) torch.Size([1])\n",
            "torch.Size([1, 2]) torch.Size([1])\n",
            "torch.Size([1, 2]) torch.Size([1])\n",
            "torch.Size([1, 2]) torch.Size([1])\n",
            "torch.Size([1, 2]) torch.Size([1])\n",
            "torch.Size([1, 2]) torch.Size([1])\n",
            "torch.Size([1, 2]) torch.Size([1])\n",
            "torch.Size([1, 2]) torch.Size([1])\n",
            "torch.Size([1, 2]) torch.Size([1])\n",
            "torch.Size([1, 2]) torch.Size([1])\n",
            "torch.Size([1, 2]) torch.Size([1])\n",
            "torch.Size([1, 2]) torch.Size([1])\n",
            "torch.Size([1, 2]) torch.Size([1])\n",
            "torch.Size([1, 2]) torch.Size([1])\n",
            "torch.Size([1, 2]) torch.Size([1])\n",
            "torch.Size([1, 2]) torch.Size([1])\n",
            "torch.Size([1, 2]) torch.Size([1])\n",
            "torch.Size([1, 2]) torch.Size([1])\n",
            "torch.Size([1, 2]) torch.Size([1])\n",
            "torch.Size([1, 2]) torch.Size([1])\n",
            "torch.Size([1, 2]) torch.Size([1])\n",
            "torch.Size([1, 2]) torch.Size([1])\n",
            "torch.Size([1, 2]) torch.Size([1])\n",
            "torch.Size([1, 2]) torch.Size([1])\n",
            "torch.Size([1, 2]) torch.Size([1])\n",
            "torch.Size([1, 2]) torch.Size([1])\n",
            "torch.Size([1, 2]) torch.Size([1])\n",
            "torch.Size([1, 2]) torch.Size([1])\n",
            "torch.Size([1, 2]) torch.Size([1])\n",
            "torch.Size([1, 2]) torch.Size([1])\n",
            "torch.Size([1, 2]) torch.Size([1])\n",
            "torch.Size([1, 2]) torch.Size([1])\n",
            "torch.Size([1, 2]) torch.Size([1])\n",
            "torch.Size([1, 2]) torch.Size([1])\n",
            "torch.Size([1, 2]) torch.Size([1])\n",
            "torch.Size([1, 2]) torch.Size([1])\n",
            "torch.Size([1, 2]) torch.Size([1])\n",
            "torch.Size([1, 2]) torch.Size([1])\n",
            "torch.Size([1, 2]) torch.Size([1])\n",
            "torch.Size([1, 2]) torch.Size([1])\n",
            "torch.Size([1, 2]) torch.Size([1])\n",
            "torch.Size([1, 2]) torch.Size([1])\n",
            "torch.Size([1, 2]) torch.Size([1])\n",
            "torch.Size([1, 2]) torch.Size([1])\n",
            "torch.Size([1, 2]) torch.Size([1])\n",
            "torch.Size([1, 2]) torch.Size([1])\n",
            "torch.Size([1, 2]) torch.Size([1])\n",
            "torch.Size([1, 2]) torch.Size([1])\n",
            "torch.Size([1, 2]) torch.Size([1])\n",
            "torch.Size([1, 2]) torch.Size([1])\n",
            "torch.Size([1, 2]) torch.Size([1])\n",
            "torch.Size([1, 2]) torch.Size([1])\n",
            "torch.Size([1, 2]) torch.Size([1])\n",
            "torch.Size([1, 2]) torch.Size([1])\n",
            "torch.Size([1, 2]) torch.Size([1])\n",
            "torch.Size([1, 2]) torch.Size([1])\n",
            "torch.Size([1, 2]) torch.Size([1])\n",
            "torch.Size([1, 2]) torch.Size([1])\n",
            "torch.Size([1, 2]) torch.Size([1])\n",
            "torch.Size([1, 2]) torch.Size([1])\n",
            "torch.Size([1, 2]) torch.Size([1])\n",
            "torch.Size([1, 2]) torch.Size([1])\n",
            "torch.Size([1, 2]) torch.Size([1])\n",
            "torch.Size([1, 2]) torch.Size([1])\n",
            "torch.Size([1, 2]) torch.Size([1])\n",
            "torch.Size([1, 2]) torch.Size([1])\n",
            "torch.Size([1, 2]) torch.Size([1])\n",
            "torch.Size([1, 2]) torch.Size([1])\n",
            "torch.Size([1, 2]) torch.Size([1])\n",
            "torch.Size([1, 2]) torch.Size([1])\n",
            "torch.Size([1, 2]) torch.Size([1])\n",
            "torch.Size([1, 2]) torch.Size([1])\n",
            "torch.Size([1, 2]) torch.Size([1])\n",
            "torch.Size([1, 2]) torch.Size([1])\n",
            "torch.Size([1, 2]) torch.Size([1])\n",
            "torch.Size([1, 2]) torch.Size([1])\n",
            "torch.Size([1, 2]) torch.Size([1])\n",
            "torch.Size([1, 2]) torch.Size([1])\n",
            "torch.Size([1, 2]) torch.Size([1])\n",
            "torch.Size([1, 2]) torch.Size([1])\n",
            "torch.Size([1, 2]) torch.Size([1])\n",
            "torch.Size([1, 2]) torch.Size([1])\n",
            "torch.Size([1, 2]) torch.Size([1])\n",
            "torch.Size([1, 2]) torch.Size([1])\n",
            "torch.Size([1, 2]) torch.Size([1])\n",
            "torch.Size([1, 2]) torch.Size([1])\n",
            "torch.Size([1, 2]) torch.Size([1])\n",
            "torch.Size([1, 2]) torch.Size([1])\n",
            "torch.Size([1, 2]) torch.Size([1])\n",
            "torch.Size([1, 2]) torch.Size([1])\n",
            "torch.Size([1, 2]) torch.Size([1])\n",
            "torch.Size([1, 2]) torch.Size([1])\n",
            "torch.Size([1, 2]) torch.Size([1])\n",
            "torch.Size([1, 2]) torch.Size([1])\n",
            "torch.Size([1, 2]) torch.Size([1])\n",
            "torch.Size([1, 2]) torch.Size([1])\n",
            "torch.Size([1, 2]) torch.Size([1])\n",
            "torch.Size([1, 2]) torch.Size([1])\n",
            "torch.Size([1, 2]) torch.Size([1])\n",
            "torch.Size([1, 2]) torch.Size([1])\n",
            "torch.Size([1, 2]) torch.Size([1])\n",
            "torch.Size([1, 2]) torch.Size([1])\n",
            "torch.Size([1, 2]) torch.Size([1])\n",
            "torch.Size([1, 2]) torch.Size([1])\n",
            "torch.Size([1, 2]) torch.Size([1])\n",
            "torch.Size([1, 2]) torch.Size([1])\n",
            "torch.Size([1, 2]) torch.Size([1])\n",
            "torch.Size([1, 2]) torch.Size([1])\n",
            "torch.Size([1, 2]) torch.Size([1])\n",
            "torch.Size([1, 2]) torch.Size([1])\n",
            "torch.Size([1, 2]) torch.Size([1])\n",
            "torch.Size([1, 2]) torch.Size([1])\n",
            "torch.Size([1, 2]) torch.Size([1])\n",
            "torch.Size([1, 2]) torch.Size([1])\n",
            "torch.Size([1, 2]) torch.Size([1])\n",
            "torch.Size([1, 2]) torch.Size([1])\n",
            "torch.Size([1, 2]) torch.Size([1])\n",
            "torch.Size([1, 2]) torch.Size([1])\n",
            "torch.Size([1, 2]) torch.Size([1])\n",
            "torch.Size([1, 2]) torch.Size([1])\n",
            "torch.Size([1, 2]) torch.Size([1])\n",
            "torch.Size([1, 2]) torch.Size([1])\n",
            "torch.Size([1, 2]) torch.Size([1])\n",
            "torch.Size([1, 2]) torch.Size([1])\n",
            "torch.Size([1, 2]) torch.Size([1])\n",
            "torch.Size([1, 2]) torch.Size([1])\n",
            "torch.Size([1, 2]) torch.Size([1])\n",
            "torch.Size([1, 2]) torch.Size([1])\n",
            "torch.Size([1, 2]) torch.Size([1])\n",
            "torch.Size([1, 2]) torch.Size([1])\n",
            "torch.Size([1, 2]) torch.Size([1])\n",
            "torch.Size([1, 2]) torch.Size([1])\n",
            "torch.Size([1, 2]) torch.Size([1])\n",
            "torch.Size([1, 2]) torch.Size([1])\n",
            "torch.Size([1, 2]) torch.Size([1])\n",
            "torch.Size([1, 2]) torch.Size([1])\n",
            "torch.Size([1, 2]) torch.Size([1])\n",
            "torch.Size([1, 2]) torch.Size([1])\n",
            "torch.Size([1, 2]) torch.Size([1])\n",
            "torch.Size([1, 2]) torch.Size([1])\n",
            "torch.Size([1, 2]) torch.Size([1])\n",
            "torch.Size([1, 2]) torch.Size([1])\n",
            "torch.Size([1, 2]) torch.Size([1])\n",
            "torch.Size([1, 2]) torch.Size([1])\n",
            "torch.Size([1, 2]) torch.Size([1])\n",
            "torch.Size([1, 2]) torch.Size([1])\n",
            "torch.Size([1, 2]) torch.Size([1])\n",
            "torch.Size([1, 2]) torch.Size([1])\n",
            "torch.Size([1, 2]) torch.Size([1])\n",
            "torch.Size([1, 2]) torch.Size([1])\n",
            "torch.Size([1, 2]) torch.Size([1])\n",
            "torch.Size([1, 2]) torch.Size([1])\n",
            "torch.Size([1, 2]) torch.Size([1])\n",
            "torch.Size([1, 2]) torch.Size([1])\n",
            "torch.Size([1, 2]) torch.Size([1])\n",
            "torch.Size([1, 2]) torch.Size([1])\n",
            "torch.Size([1, 2]) torch.Size([1])\n",
            "torch.Size([1, 2]) torch.Size([1])\n",
            "torch.Size([1, 2]) torch.Size([1])\n",
            "torch.Size([1, 2]) torch.Size([1])\n",
            "torch.Size([1, 2]) torch.Size([1])\n",
            "torch.Size([1, 2]) torch.Size([1])\n",
            "torch.Size([1, 2]) torch.Size([1])\n",
            "torch.Size([1, 2]) torch.Size([1])\n",
            "torch.Size([1, 2]) torch.Size([1])\n",
            "torch.Size([1, 2]) torch.Size([1])\n",
            "torch.Size([1, 2]) torch.Size([1])\n",
            "torch.Size([1, 2]) torch.Size([1])\n",
            "torch.Size([1, 2]) torch.Size([1])\n",
            "torch.Size([1, 2]) torch.Size([1])\n",
            "torch.Size([1, 2]) torch.Size([1])\n",
            "torch.Size([1, 2]) torch.Size([1])\n",
            "torch.Size([1, 2]) torch.Size([1])\n",
            "torch.Size([1, 2]) torch.Size([1])\n",
            "torch.Size([1, 2]) torch.Size([1])\n",
            "torch.Size([1, 2]) torch.Size([1])\n",
            "torch.Size([1, 2]) torch.Size([1])\n",
            "torch.Size([1, 2]) torch.Size([1])\n",
            "torch.Size([1, 2]) torch.Size([1])\n",
            "torch.Size([1, 2]) torch.Size([1])\n",
            "torch.Size([1, 2]) torch.Size([1])\n",
            "torch.Size([1, 2]) torch.Size([1])\n"
          ]
        }
      ]
    },
    {
      "cell_type": "code",
      "source": [
        "for data, label in test_data:\n",
        "  bow_vec = Variable(make_bow(data, vocab_map))\n",
        "  output = model(bow_vec)\n",
        "  print(output.argmax(dim = 1))#predictions"
      ],
      "metadata": {
        "colab": {
          "base_uri": "https://localhost:8080/"
        },
        "id": "knRfyXWEUZ7o",
        "outputId": "cc032577-7eb1-489e-99c9-ce9be46b8762"
      },
      "execution_count": 148,
      "outputs": [
        {
          "output_type": "stream",
          "name": "stdout",
          "text": [
            "tensor([0])\n",
            "tensor([1])\n",
            "tensor([1])\n",
            "tensor([0])\n"
          ]
        }
      ]
    },
    {
      "cell_type": "code",
      "source": [
        "\n",
        "data = (\"me gusta comer en la cafeteria\".split(), \"SPANISH\")\n",
        "# vec = make_bow(data[0] , vocab_map)\n",
        "target = make_labels(labels, data[1])"
      ],
      "metadata": {
        "id": "0MJYs8-NIlSS"
      },
      "execution_count": 139,
      "outputs": []
    },
    {
      "cell_type": "code",
      "source": [
        "# vec.shape\n",
        "target.shape"
      ],
      "metadata": {
        "colab": {
          "base_uri": "https://localhost:8080/"
        },
        "id": "jPnCSZAGNhnr",
        "outputId": "e3425e8a-ce47-4965-f867-9271fb4b8e04"
      },
      "execution_count": 140,
      "outputs": [
        {
          "output_type": "execute_result",
          "data": {
            "text/plain": [
              "torch.Size([1])"
            ]
          },
          "metadata": {},
          "execution_count": 140
        }
      ]
    },
    {
      "cell_type": "code",
      "source": [
        "torch.Tensor([[3,1]]).argmax(dim = 1)"
      ],
      "metadata": {
        "colab": {
          "base_uri": "https://localhost:8080/"
        },
        "id": "v_0k2yAXNmYj",
        "outputId": "4e5860a8-7b0b-44c3-c307-61679de263f6"
      },
      "execution_count": 71,
      "outputs": [
        {
          "output_type": "execute_result",
          "data": {
            "text/plain": [
              "tensor([0])"
            ]
          },
          "metadata": {},
          "execution_count": 71
        }
      ]
    },
    {
      "cell_type": "code",
      "source": [],
      "metadata": {
        "id": "AG8OWXPQShQ6"
      },
      "execution_count": null,
      "outputs": []
    }
  ]
}